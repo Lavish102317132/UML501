{
 "cells": [
  {
   "cell_type": "code",
   "execution_count": 3,
   "id": "a00fd330",
   "metadata": {},
   "outputs": [
    {
     "name": "stdout",
     "output_type": "stream",
     "text": [
      "8\n",
      "[1 2]\n",
      "[2 3]\n",
      "[[0.5 0.5]\n",
      " [0.5 0.5]]\n"
     ]
    }
   ],
   "source": [
    "import numpy as np\n",
    "array  = np.array([1,2,3,4,5])\n",
    "\n",
    "\n",
    "reversed_array = array[::-1]\n",
    "print (reversed_array)\n",
    "\n",
    "import numpy as np\n",
    "arr = np.array([[1,2,3],[2,4,5],[1,2,3]])\n",
    "flattened_arr = arr.flatten()\n",
    "print(flattened_arr) \n",
    "\n",
    "import numpy as np\n",
    "arr = np.array([[1,2,3],[2,4,5],[1,2,3]])\n",
    "flattened_arr = arr.ravel()\n",
    "print(flattened_arr) \n",
    "\n",
    "import numpy as np\n",
    "\n",
    "def compare_2d_array(arr1, arr2):\n",
    "    arr1 = np.array(arr1)\n",
    "    arr2 = np.array(arr2)\n",
    "\n",
    "    elementwise_comparison = arr1 == arr2\n",
    "    print(\"Element-wise comparison (True means equal):\")\n",
    "    print(elementwise_comparison)\n",
    "\n",
    "array1 = np.array([1,2])\n",
    "array2 = np.array([2, 3])\n",
    "result=np.dot(array1,array2)\n",
    "print(result)\n",
    "print(array1)\n",
    "\n",
    "print(array2)\n",
    "\n",
    "print(np.cov(array1, array2))"
   ]
  },
  {
   "cell_type": "code",
   "execution_count": 4,
   "id": "58c4b0f9",
   "metadata": {},
   "outputs": [
    {
     "name": "stdout",
     "output_type": "stream",
     "text": [
      "59\n",
      "[4 5]\n",
      "[4 5]\n",
      "[6 7]\n",
      "[[0.5 0.5]\n",
      " [0.5 0.5]]\n"
     ]
    }
   ],
   "source": [
    "import numpy as np\n",
    "\n",
    "\n",
    "array1 = np.array([4,5])\n",
    "array2 = np.array([6,7])\n",
    "\n",
    "result=np.dot(array1,array2)\n",
    "print(result)\n",
    "print(array1)\n",
    "print(array1)\n",
    "\n",
    "print(array2)\n",
    "\n",
    "print(np.cov(array1, array2))"
   ]
  },
  {
   "cell_type": "code",
   "execution_count": 5,
   "id": "97858a6c",
   "metadata": {},
   "outputs": [
    {
     "name": "stdout",
     "output_type": "stream",
     "text": [
      "61\n",
      "[6 7 2]\n",
      "[6 7 2]\n",
      "[4 5 1]\n",
      "[[7.         5.5       ]\n",
      " [5.5        4.33333333]]\n"
     ]
    }
   ],
   "source": [
    "import numpy as np\n",
    "\n",
    "\n",
    "array1 = np.array([6,7,2])\n",
    "array2 = np.array([4,5,1])\n",
    "\n",
    "result=np.dot(array1,array2)\n",
    "print(result)\n",
    "print(array1)\n",
    "print(array1)\n",
    "\n",
    "print(array2)\n",
    "\n",
    "print(np.cov(array1, array2))"
   ]
  },
  {
   "cell_type": "code",
   "execution_count": 6,
   "id": "94aeaaa9",
   "metadata": {},
   "outputs": [
    {
     "name": "stdout",
     "output_type": "stream",
     "text": [
      "[[17 52]\n",
      " [13 62]]\n",
      "[[ 2 10  0 10 20  6]\n",
      " [ 3 15  0 15 30  9]\n",
      " [ 4 20  0 20 40 12]\n",
      " [ 3 15  0 15 30  9]\n",
      " [ 2 10  0 10 20  6]\n",
      " [ 9 45  0 45 90 27]]\n",
      "[[-20   4   7]\n",
      " [-84  36  20]]\n"
     ]
    }
   ],
   "source": [
    "x=np.array([[2,3,4],[3,2,9]])\n",
    "y=np.array([[1,5,0],[5,10,3]])\n",
    "a=np.inner(x,y)\n",
    "b=np.outer(x,y)\n",
    "c=np.cross(x,y)\n",
    "print(a)\n",
    "print(b)\n",
    "print(c)"
   ]
  },
  {
   "cell_type": "code",
   "execution_count": 12,
   "id": "d06444b2",
   "metadata": {},
   "outputs": [
    {
     "name": "stdout",
     "output_type": "stream",
     "text": [
      "[ 10  16  16  52  54  62 453]\n",
      "[0 3 4 1 5 2 6]\n",
      "[10 16 16 52]\n",
      "[453  62  54  52  16]\n"
     ]
    }
   ],
   "source": [
    "array=np.array([10,52,62,16,16,54,453])\n",
    "res=np.sort(array)\n",
    "indices=np.argsort(array)\n",
    "reverse=res[::-1]\n",
    "print(res)\n",
    "print(indices)\n",
    "print(res[0:4])\n",
    "print(reverse[0:5])"
   ]
  },
  {
   "cell_type": "code",
   "execution_count": 16,
   "id": "5e63f648",
   "metadata": {},
   "outputs": [
    {
     "name": "stdout",
     "output_type": "stream",
     "text": [
      "[1 1 2 2 3 2]\n",
      "[1.  1.2 2.2 2.  3.  2. ]\n"
     ]
    }
   ],
   "source": [
    "array=np.array([1.0,1.2,2.2,2.0,3.0,2.0])\n",
    "integer = np.asarray(array, dtype=int)\n",
    "froat = np.asarray(array, dtype=float)\n",
    "print(integer)\n",
    "print(froat)"
   ]
  },
  {
   "cell_type": "code",
   "execution_count": null,
   "id": "874de49c",
   "metadata": {},
   "outputs": [],
   "source": [
    "import cv2\n",
    "import numpy as np\n",
    "def img_to_path(path):\n",
    "    img_color=cv2.imread(path,cv2.IMREAD_COLOR)\n",
    "    if img_coloris None:\n",
    "        print(\"Error: img is not found\")\n",
    "        return\n",
    "    img_gray=cv2.imread(path,cv2.IMREAD_GRAYSCALE)\n",
    "    if np.array_equal(cv2.cvtColor(img_color,cv2.COLOR_BG2GRAY),img_gray):\n",
    "        np.savetxt(\"image_array_grayscale.txt\",img_gray,fmt='%d')\n",
    "        print(\"COnverted\")\n",
    "        \n",
    "    else:\n",
    "        img_res=img_color.reshape(-1,3)\n",
    "        np.savetxt(\"image_array_rgb.txt\",img_reshaped,fmt='%d')\n",
    "        print(\"sa"
   ]
  }
 ],
 "metadata": {
  "kernelspec": {
   "display_name": "Python 3 (ipykernel)",
   "language": "python",
   "name": "python3"
  },
  "language_info": {
   "codemirror_mode": {
    "name": "ipython",
    "version": 3
   },
   "file_extension": ".py",
   "mimetype": "text/x-python",
   "name": "python",
   "nbconvert_exporter": "python",
   "pygments_lexer": "ipython3",
   "version": "3.9.12"
  }
 },
 "nbformat": 4,
 "nbformat_minor": 5
}
